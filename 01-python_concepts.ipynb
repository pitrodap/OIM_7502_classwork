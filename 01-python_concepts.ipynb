{
 "cells": [
  {
   "cell_type": "markdown",
   "id": "9383bafa",
   "metadata": {},
   "source": [
    "### Python Programming Concepts"
   ]
  },
  {
   "cell_type": "markdown",
   "id": "17df7d6e",
   "metadata": {},
   "source": [
    "#### 1. Create a variable to store the value 500 for sales"
   ]
  },
  {
   "cell_type": "code",
   "execution_count": 1,
   "id": "a5f43c2f",
   "metadata": {},
   "outputs": [
    {
     "data": {
      "text/plain": [
       "500"
      ]
     },
     "execution_count": 1,
     "metadata": {},
     "output_type": "execute_result"
    }
   ],
   "source": [
    "sales_var = 500\n",
    "sales_var"
   ]
  },
  {
   "cell_type": "markdown",
   "id": "6dc8b9ea",
   "metadata": {},
   "source": [
    "#### 2. Create a variable to store several values:  \n",
    "* sales: 500, 475, 625\n",
    "* integers 1 - 9 "
   ]
  },
  {
   "cell_type": "code",
   "execution_count": 5,
   "id": "902fe3bd",
   "metadata": {},
   "outputs": [
    {
     "data": {
      "text/plain": [
       "[1, 2, 3, 4, 5, 6, 7, 8, 9]"
      ]
     },
     "execution_count": 5,
     "metadata": {},
     "output_type": "execute_result"
    }
   ],
   "source": [
    "sales = [500,475,625]\n",
    "integ = list(range(1,10))\n",
    "sales\n",
    "integ"
   ]
  },
  {
   "cell_type": "markdown",
   "id": "62e55953",
   "metadata": {},
   "source": [
    "#### 3. Create a variable to store the names and email addresses for a number of customers\n",
    "* John, john@some.com; Ann, ann@some.com"
   ]
  },
  {
   "cell_type": "code",
   "execution_count": 6,
   "id": "03f2b161",
   "metadata": {},
   "outputs": [
    {
     "data": {
      "text/plain": [
       "dict_keys(['name', 'email'])"
      ]
     },
     "execution_count": 6,
     "metadata": {},
     "output_type": "execute_result"
    }
   ],
   "source": [
    "customers = [{'name': 'John', 'email': 'john@some.com'}, {'name': 'Ann', 'email': 'ann@some.com'}]\n",
    "customers[0].keys()"
   ]
  },
  {
   "cell_type": "markdown",
   "id": "d6b1e8c6",
   "metadata": {},
   "source": [
    "#### 4. Use Python to generate a random value based on each of following:\n",
    "1. between 0 and 1\n",
    "2. the standard normal distribution (rounded to two decimal places)\n",
    "3. a value between 1 and 10\n",
    "4. either H or T"
   ]
  },
  {
   "cell_type": "code",
   "execution_count": 7,
   "id": "f004d7b5",
   "metadata": {},
   "outputs": [
    {
     "data": {
      "text/plain": [
       "0.9296644210749997"
      ]
     },
     "execution_count": 7,
     "metadata": {},
     "output_type": "execute_result"
    }
   ],
   "source": [
    "import random\n",
    "random.random()"
   ]
  },
  {
   "cell_type": "code",
   "execution_count": 13,
   "id": "a8efc6fc",
   "metadata": {},
   "outputs": [
    {
     "data": {
      "text/plain": [
       "0.41"
      ]
     },
     "execution_count": 13,
     "metadata": {},
     "output_type": "execute_result"
    }
   ],
   "source": [
    "round(random.normalvariate(),2)"
   ]
  },
  {
   "cell_type": "code",
   "execution_count": 16,
   "id": "1a29e601",
   "metadata": {},
   "outputs": [
    {
     "data": {
      "text/plain": [
       "7"
      ]
     },
     "execution_count": 16,
     "metadata": {},
     "output_type": "execute_result"
    }
   ],
   "source": [
    "random.randint(1,10)"
   ]
  },
  {
   "cell_type": "code",
   "execution_count": 17,
   "id": "3a150c3e",
   "metadata": {},
   "outputs": [
    {
     "data": {
      "text/plain": [
       "'T'"
      ]
     },
     "execution_count": 17,
     "metadata": {},
     "output_type": "execute_result"
    }
   ],
   "source": [
    "random.choice('HT')"
   ]
  },
  {
   "cell_type": "code",
   "execution_count": null,
   "id": "f80f4b3b",
   "metadata": {},
   "outputs": [],
   "source": []
  },
  {
   "cell_type": "code",
   "execution_count": null,
   "id": "bdb52b86",
   "metadata": {},
   "outputs": [],
   "source": []
  },
  {
   "cell_type": "markdown",
   "id": "7eddf06a",
   "metadata": {},
   "source": [
    "#### 5. Use Python to determine your current working directory"
   ]
  },
  {
   "cell_type": "code",
   "execution_count": 18,
   "id": "d8f79474",
   "metadata": {},
   "outputs": [
    {
     "data": {
      "text/plain": [
       "'C:\\\\Users\\\\payal\\\\OIM7502_SP24'"
      ]
     },
     "execution_count": 18,
     "metadata": {},
     "output_type": "execute_result"
    }
   ],
   "source": [
    "import os\n",
    "os.getcwd()"
   ]
  },
  {
   "cell_type": "markdown",
   "id": "fc43ec50",
   "metadata": {},
   "source": [
    "#### 6. Use Python to determine how many days until New Year's Day"
   ]
  },
  {
   "cell_type": "code",
   "execution_count": 21,
   "id": "13f630fe",
   "metadata": {},
   "outputs": [
    {
     "data": {
      "text/plain": [
       "datetime.timedelta(days=343)"
      ]
     },
     "execution_count": 21,
     "metadata": {},
     "output_type": "execute_result"
    }
   ],
   "source": [
    "import datetime as dt\n",
    "today = dt.date.today()\n",
    "newyr = dt.date(2025,1,1)\n",
    "newyr - today"
   ]
  },
  {
   "cell_type": "markdown",
   "id": "2ba4ea92",
   "metadata": {},
   "source": [
    "#### 7. Write a short program that displays the future value of 1,000 earning 5%  at the end of each year for the next 5 years"
   ]
  },
  {
   "cell_type": "code",
   "execution_count": 22,
   "id": "6fef4a8c",
   "metadata": {},
   "outputs": [
    {
     "name": "stdout",
     "output_type": "stream",
     "text": [
      "Year         Balance\n",
      "--------------------\n",
      "0             $1,000\n",
      "1             $1,050\n",
      "2             $1,102\n",
      "3             $1,158\n",
      "4             $1,216\n",
      "5             $1,276\n"
     ]
    }
   ],
   "source": [
    "value = 1000\n",
    "rate = .05\n",
    "print(f\"{'Year':<13}{'Balance'}\")\n",
    "print('-' * 20)\n",
    "for year in range(6):\n",
    "    print(f\"{year:<14d}${value:,.0f}\")\n",
    "    value *= (1+rate) "
   ]
  },
  {
   "cell_type": "markdown",
   "id": "150201c8",
   "metadata": {},
   "source": [
    "#### 8. Write a short program that prompts a user to enter a stock symbol and press enter. Add each symbol entered to a variable. The program should run until the user presses the enter key without entering anything (empty string) "
   ]
  },
  {
   "cell_type": "code",
   "execution_count": 23,
   "id": "931a346f",
   "metadata": {},
   "outputs": [
    {
     "name": "stdout",
     "output_type": "stream",
     "text": [
      "Enter a stock symbol or press enter to quit: a\n",
      "Enter a stock symbol or press enter to quit: b\n",
      "Enter a stock symbol or press enter to quit: c\n",
      "Enter a stock symbol or press enter to quit: \n",
      "['a', 'b', 'c']\n"
     ]
    }
   ],
   "source": [
    "stocks =[] \n",
    "while True:\n",
    "    symb = input('Enter a stock symbol or press enter to quit: ')\n",
    "    if symb == '':\n",
    "        break\n",
    "    else:\n",
    "        stocks.append(symb)\n",
    "print(stocks)  "
   ]
  },
  {
   "cell_type": "markdown",
   "id": "fc2a7592",
   "metadata": {},
   "source": [
    "#### 9. Write the code necessary to calculate the sum of the square differences of a group of values : \n",
    "58, 32, 37, 41, 36, 36, 54, 37, 25, 53\n",
    "##### $\\Sigma $(${x}$ - $\\bar{x}$)$^2$"
   ]
  },
  {
   "cell_type": "code",
   "execution_count": 24,
   "id": "13d9a6c5",
   "metadata": {},
   "outputs": [
    {
     "data": {
      "text/plain": [
       "10.650508595054667"
      ]
     },
     "execution_count": 24,
     "metadata": {},
     "output_type": "execute_result"
    }
   ],
   "source": [
    "values = [58, 32, 37, 41, 36, 36, 54, 37, 25, 53]\n",
    "mean = sum(values) / len(values)\n",
    "SS =sum([(x - mean) ** 2 for x in values])\n",
    "var = SS / (len(values) - 1)\n",
    "var ** .5"
   ]
  },
  {
   "cell_type": "markdown",
   "id": "6d6f2e64",
   "metadata": {},
   "source": [
    "#### 10. Opening, reading and writing files"
   ]
  },
  {
   "cell_type": "code",
   "execution_count": 25,
   "id": "f7fa569d",
   "metadata": {},
   "outputs": [
    {
     "name": "stdout",
     "output_type": "stream",
     "text": [
      "They're selling postcards of the hanging, they're painting the passports brown\n",
      "The beauty parlor is filled with sailors, the circus is in town\n",
      "Here comes the blind commissioner, they've got him in a trance\n",
      "One hand is tied to the tight-rope walker, the other is in his pants\n",
      "And the riot squad they're restless, they need somewhere to go\n",
      "As Lady and I look out tonight, from Desolation Row\n",
      "Cinderella, she seems so easy, \"It takes one to know one, \" she smiles\n",
      "And puts her hands in her back pockets Bette Davis style\n",
      "And in comes Romeo, he's moaning. \"You Belong to Me I Believe\"\n",
      "And someone says, \"You're in the wrong place, my friend, you'd better leave\"\n",
      "And the only sound that's left after the ambulances go\n",
      "Is Cinderella sweeping up on Desolation Row\n",
      "Now the moon is almost hidden, the stars are beginning to hide\n",
      "The fortune telling lady has even taken all her things inside\n",
      "All except for Cain and Abel and the hunchback of Notre Dame\n",
      "Everybody is making love or else expecting rain\n",
      "And the Good Samaritan, he's dressing, he's getting ready for the show\n",
      "He's going to the carnival tonight on Desolation Row\n",
      "Ophelia, she's 'neath the window for her I feel so afraid\n",
      "On her twenty-second birthday she already is an old maid\n",
      "To her, death is quite romantic she wears an iron vest\n",
      "Her profession's her religion, her sin is her lifelessness\n",
      "And though her eyes are fixed upon Noah's great rainbow\n",
      "She spends her time peeking into Desolation Row\n",
      "Einstein, disguised as Robin Hood with his memories in a trunk\n",
      "Passed this way an hour ago with his friend, a jealous monk\n",
      "Now he looked so immaculately frightful as he bummed a cigarette\n",
      "And he when off sniffing drainpipes and reciting the alphabet\n",
      "You would not think to look at him, but he was famous long ago\n",
      "For playing the electric violin on Desolation Row\n",
      "Dr. Filth, he keeps his world inside of a leather cup\n",
      "But all his sexless patients, they're trying to blow it up\n",
      "Now his nurse, some local loser, she's in charge of the cyanide hole\n",
      "And she also keeps the cards that read, \"Have Mercy on His Soul\"\n",
      "They all play on the penny whistles, you can hear them blow\n",
      "If you lean your head out far enough from Desolation Row\n",
      "Across the street they've nailed the curtains, they're getting ready for the feast\n",
      "The Phantom of the Opera in a perfect image of a priest\n",
      "They are spoon feeding Casanova to get him to feel more assured\n",
      "Then they'll kill him with self-confidence after poisoning him with words\n",
      "And the Phantom's shouting to skinny girls, \"Get outta here if you don't know\"\n",
      "Casanova is just being punished for going to Desolation Row\"\n",
      "At midnight all the agents and the superhuman crew\n",
      "Come out and round up everyone that knows more than they do\n",
      "Then they bring them to the factory where the heart-attack machine\n",
      "Is strapped across their shoulders and then the kerosene\n",
      "Is brought down from the castles by insurance men who go\n",
      "Check to see that nobody is escaping to Desolation Row\n",
      "Praise be to Nero's Neptune, the Titanic sails at dawn\n",
      "Everybody's shouting, \"Which side are you on?!\"\n",
      "And Ezra Pound and T.S. Eliot fighting in the captain's tower\n",
      "While calypso singers laugh at them and fishermen hold flowers\n",
      "Between the windows of the sea where lovely mermaids flow\n",
      "And nobody has to think too much about Desolation Row\n",
      "Yes, I received your letter yesterday, about the time the doorknob broke\n",
      "When you asked me how I was doing, was that some kind of joke\n",
      "All these people that you mention, yes, I know them, they're quite lame\n",
      "I had to rearrange their faces and give them all another name\n",
      "Right now, I can't read too good, don't send me no more letters no\n",
      "Not unless you mail them from Desolation Row\n"
     ]
    }
   ],
   "source": [
    "path = \"data/desolation_row.txt\"\n",
    "with open(path, 'r') as file:\n",
    "    data =file.read()\n",
    "    file.close()\n",
    "print(data)    "
   ]
  },
  {
   "cell_type": "markdown",
   "id": "eec548d6",
   "metadata": {},
   "source": [
    "#### 11. Create a function the will simulate rolling two die and return the value of each and and the sum "
   ]
  },
  {
   "cell_type": "code",
   "execution_count": 26,
   "id": "bb115cdc",
   "metadata": {},
   "outputs": [
    {
     "name": "stdout",
     "output_type": "stream",
     "text": [
      "(3, 1, 4)\n"
     ]
    },
    {
     "data": {
      "text/plain": [
       "7"
      ]
     },
     "execution_count": 26,
     "metadata": {},
     "output_type": "execute_result"
    }
   ],
   "source": [
    "import random\n",
    "def rolling_dice():\n",
    "    die1 = random.randint(1,6)\n",
    "    die2 = random.randint(1,6)\n",
    "    total = die1 + die2\n",
    "    return die1, die2, total\n",
    "\n",
    "die1, die2, total = rolling_dice()\n",
    "print(rolling_dice())\n",
    "values = rolling_dice()\n",
    "values[2]"
   ]
  },
  {
   "cell_type": "markdown",
   "id": "21556d7f",
   "metadata": {},
   "source": [
    "#### 12. Write the code needed to evaluate whether a value in a group of values is negative or postive and prints an approriate message, i.e. postive, negative \n",
    "-1.59, 2.36, 1.69, 1.13, -0.91, 1.48, -0.34, 1.31, -0.74, 0.2"
   ]
  },
  {
   "cell_type": "code",
   "execution_count": 27,
   "id": "d6c38ecb",
   "metadata": {},
   "outputs": [
    {
     "name": "stdout",
     "output_type": "stream",
     "text": [
      "negative\n",
      "postive\n",
      "postive\n",
      "postive\n",
      "negative\n",
      "postive\n",
      "negative\n",
      "postive\n",
      "negative\n",
      "postive\n"
     ]
    }
   ],
   "source": [
    "values = [-1.59, 2.36, 1.69, 1.13, -0.91, 1.48, -0.34, 1.31, -0.74, 0.2]\n",
    "for value in values:\n",
    "    if value == 0:\n",
    "        print('zero')\n",
    "    elif value > 0:    \n",
    "        print(\"postive\")\n",
    "    else:\n",
    "        print(\"negative\")"
   ]
  },
  {
   "cell_type": "code",
   "execution_count": null,
   "id": "aaefba17",
   "metadata": {},
   "outputs": [],
   "source": []
  },
  {
   "cell_type": "markdown",
   "id": "8cafe65c",
   "metadata": {},
   "source": [
    "#### 14.  Complete the following:\n",
    "1. Write a program that generates 500 random integers from 1 to n, for example, the first integer will be 1 the second will be 1 or 2, the fifth between 1 and 5, and so on.\n",
    "2. The program should write each integer to a file \n",
    "3. Once all integers are written close the file\n",
    "\n",
    "##### Part 2\n",
    "1. Open and read the file into a list\n",
    "2. Create a line plot of the data"
   ]
  },
  {
   "cell_type": "code",
   "execution_count": 28,
   "id": "60a910bb",
   "metadata": {},
   "outputs": [],
   "source": [
    "import matplotlib.pyplot as plt"
   ]
  },
  {
   "cell_type": "code",
   "execution_count": 29,
   "id": "d6b4180c",
   "metadata": {},
   "outputs": [],
   "source": [
    "file = open(\"data/numbers.txt\", \"w\")\n",
    "\n",
    "for number in range(1,500):\n",
    "    file.write(str(random.randint(1, number)) + \"\\n\")\n",
    "file.close()               "
   ]
  },
  {
   "cell_type": "code",
   "execution_count": 32,
   "id": "adb6aa11",
   "metadata": {},
   "outputs": [],
   "source": [
    "data = []\n",
    "file = open(\"data/numbers.txt\", \"r\")\n",
    "for integer in file.readlines():\n",
    "    data.append(int(integer.strip()))\n",
    "file.close()                   "
   ]
  },
  {
   "cell_type": "code",
   "execution_count": null,
   "id": "6745da79",
   "metadata": {},
   "outputs": [],
   "source": []
  },
  {
   "cell_type": "code",
   "execution_count": null,
   "id": "21140445",
   "metadata": {},
   "outputs": [],
   "source": []
  },
  {
   "cell_type": "code",
   "execution_count": null,
   "id": "3d546600",
   "metadata": {},
   "outputs": [],
   "source": []
  }
 ],
 "metadata": {
  "kernelspec": {
   "display_name": "Python 3 (ipykernel)",
   "language": "python",
   "name": "python3"
  },
  "language_info": {
   "codemirror_mode": {
    "name": "ipython",
    "version": 3
   },
   "file_extension": ".py",
   "mimetype": "text/x-python",
   "name": "python",
   "nbconvert_exporter": "python",
   "pygments_lexer": "ipython3",
   "version": "3.11.3"
  }
 },
 "nbformat": 4,
 "nbformat_minor": 5
}
