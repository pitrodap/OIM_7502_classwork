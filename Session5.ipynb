{
 "cells": [
  {
   "cell_type": "code",
   "execution_count": 2,
   "id": "621fb563",
   "metadata": {},
   "outputs": [],
   "source": [
    "import matplotlib.pyplot as plt\n",
    "import numpy as np\n",
    "import pandas as pd\n",
    "import statsmodels.api as sm\n",
    "from sklearn import datasets, linear_model\n",
    "from sklearn.metrics import mean_squared_error, r2_score"
   ]
  },
  {
   "cell_type": "code",
   "execution_count": 3,
   "id": "caa3cad1",
   "metadata": {},
   "outputs": [],
   "source": [
    "homes = pd.read_csv('homes.csv')"
   ]
  },
  {
   "cell_type": "code",
   "execution_count": 4,
   "id": "043ece01",
   "metadata": {},
   "outputs": [],
   "source": [
    "homes.columns = ['Sell','List','Living','Rooms','Beds','Baths','Age','Acres','Taxes']"
   ]
  },
  {
   "cell_type": "code",
   "execution_count": 5,
   "id": "1f6b21dc",
   "metadata": {},
   "outputs": [
    {
     "data": {
      "text/html": [
       "<div>\n",
       "<style scoped>\n",
       "    .dataframe tbody tr th:only-of-type {\n",
       "        vertical-align: middle;\n",
       "    }\n",
       "\n",
       "    .dataframe tbody tr th {\n",
       "        vertical-align: top;\n",
       "    }\n",
       "\n",
       "    .dataframe thead th {\n",
       "        text-align: right;\n",
       "    }\n",
       "</style>\n",
       "<table border=\"1\" class=\"dataframe\">\n",
       "  <thead>\n",
       "    <tr style=\"text-align: right;\">\n",
       "      <th></th>\n",
       "      <th>Sell</th>\n",
       "      <th>List</th>\n",
       "      <th>Living</th>\n",
       "      <th>Rooms</th>\n",
       "      <th>Beds</th>\n",
       "      <th>Baths</th>\n",
       "      <th>Age</th>\n",
       "      <th>Acres</th>\n",
       "      <th>Taxes</th>\n",
       "    </tr>\n",
       "  </thead>\n",
       "  <tbody>\n",
       "    <tr>\n",
       "      <th>0</th>\n",
       "      <td>142</td>\n",
       "      <td>160</td>\n",
       "      <td>28</td>\n",
       "      <td>10</td>\n",
       "      <td>5</td>\n",
       "      <td>3</td>\n",
       "      <td>60</td>\n",
       "      <td>0.28</td>\n",
       "      <td>3167</td>\n",
       "    </tr>\n",
       "    <tr>\n",
       "      <th>1</th>\n",
       "      <td>175</td>\n",
       "      <td>180</td>\n",
       "      <td>18</td>\n",
       "      <td>8</td>\n",
       "      <td>4</td>\n",
       "      <td>1</td>\n",
       "      <td>12</td>\n",
       "      <td>0.43</td>\n",
       "      <td>4033</td>\n",
       "    </tr>\n",
       "    <tr>\n",
       "      <th>2</th>\n",
       "      <td>129</td>\n",
       "      <td>132</td>\n",
       "      <td>13</td>\n",
       "      <td>6</td>\n",
       "      <td>3</td>\n",
       "      <td>1</td>\n",
       "      <td>41</td>\n",
       "      <td>0.33</td>\n",
       "      <td>1471</td>\n",
       "    </tr>\n",
       "    <tr>\n",
       "      <th>3</th>\n",
       "      <td>138</td>\n",
       "      <td>140</td>\n",
       "      <td>17</td>\n",
       "      <td>7</td>\n",
       "      <td>3</td>\n",
       "      <td>1</td>\n",
       "      <td>22</td>\n",
       "      <td>0.46</td>\n",
       "      <td>3204</td>\n",
       "    </tr>\n",
       "    <tr>\n",
       "      <th>4</th>\n",
       "      <td>232</td>\n",
       "      <td>240</td>\n",
       "      <td>25</td>\n",
       "      <td>8</td>\n",
       "      <td>4</td>\n",
       "      <td>3</td>\n",
       "      <td>5</td>\n",
       "      <td>2.05</td>\n",
       "      <td>3613</td>\n",
       "    </tr>\n",
       "  </tbody>\n",
       "</table>\n",
       "</div>"
      ],
      "text/plain": [
       "   Sell  List  Living  Rooms  Beds  Baths  Age  Acres  Taxes\n",
       "0   142   160      28     10     5      3   60   0.28   3167\n",
       "1   175   180      18      8     4      1   12   0.43   4033\n",
       "2   129   132      13      6     3      1   41   0.33   1471\n",
       "3   138   140      17      7     3      1   22   0.46   3204\n",
       "4   232   240      25      8     4      3    5   2.05   3613"
      ]
     },
     "execution_count": 5,
     "metadata": {},
     "output_type": "execute_result"
    }
   ],
   "source": [
    "homes.head()"
   ]
  },
  {
   "cell_type": "code",
   "execution_count": 55,
   "id": "491350aa",
   "metadata": {},
   "outputs": [
    {
     "data": {
      "text/html": [
       "<div>\n",
       "<style scoped>\n",
       "    .dataframe tbody tr th:only-of-type {\n",
       "        vertical-align: middle;\n",
       "    }\n",
       "\n",
       "    .dataframe tbody tr th {\n",
       "        vertical-align: top;\n",
       "    }\n",
       "\n",
       "    .dataframe thead th {\n",
       "        text-align: right;\n",
       "    }\n",
       "</style>\n",
       "<table border=\"1\" class=\"dataframe\">\n",
       "  <thead>\n",
       "    <tr style=\"text-align: right;\">\n",
       "      <th></th>\n",
       "      <th>Sell</th>\n",
       "      <th>List</th>\n",
       "      <th>Living</th>\n",
       "      <th>Rooms</th>\n",
       "      <th>Beds</th>\n",
       "      <th>Baths</th>\n",
       "      <th>Age</th>\n",
       "      <th>Acres</th>\n",
       "      <th>Taxes</th>\n",
       "    </tr>\n",
       "  </thead>\n",
       "  <tbody>\n",
       "    <tr>\n",
       "      <th>45</th>\n",
       "      <td>129</td>\n",
       "      <td>135</td>\n",
       "      <td>10</td>\n",
       "      <td>6</td>\n",
       "      <td>3</td>\n",
       "      <td>1</td>\n",
       "      <td>15</td>\n",
       "      <td>1.00</td>\n",
       "      <td>2438</td>\n",
       "    </tr>\n",
       "    <tr>\n",
       "      <th>46</th>\n",
       "      <td>143</td>\n",
       "      <td>145</td>\n",
       "      <td>21</td>\n",
       "      <td>7</td>\n",
       "      <td>4</td>\n",
       "      <td>2</td>\n",
       "      <td>10</td>\n",
       "      <td>1.20</td>\n",
       "      <td>3529</td>\n",
       "    </tr>\n",
       "    <tr>\n",
       "      <th>47</th>\n",
       "      <td>247</td>\n",
       "      <td>252</td>\n",
       "      <td>29</td>\n",
       "      <td>9</td>\n",
       "      <td>4</td>\n",
       "      <td>2</td>\n",
       "      <td>4</td>\n",
       "      <td>1.25</td>\n",
       "      <td>4626</td>\n",
       "    </tr>\n",
       "    <tr>\n",
       "      <th>48</th>\n",
       "      <td>111</td>\n",
       "      <td>120</td>\n",
       "      <td>15</td>\n",
       "      <td>8</td>\n",
       "      <td>3</td>\n",
       "      <td>1</td>\n",
       "      <td>97</td>\n",
       "      <td>1.11</td>\n",
       "      <td>3205</td>\n",
       "    </tr>\n",
       "    <tr>\n",
       "      <th>49</th>\n",
       "      <td>133</td>\n",
       "      <td>145</td>\n",
       "      <td>26</td>\n",
       "      <td>7</td>\n",
       "      <td>3</td>\n",
       "      <td>1</td>\n",
       "      <td>42</td>\n",
       "      <td>0.36</td>\n",
       "      <td>3059</td>\n",
       "    </tr>\n",
       "  </tbody>\n",
       "</table>\n",
       "</div>"
      ],
      "text/plain": [
       "    Sell  List  Living  Rooms  Beds  Baths  Age  Acres  Taxes\n",
       "45   129   135      10      6     3      1   15   1.00   2438\n",
       "46   143   145      21      7     4      2   10   1.20   3529\n",
       "47   247   252      29      9     4      2    4   1.25   4626\n",
       "48   111   120      15      8     3      1   97   1.11   3205\n",
       "49   133   145      26      7     3      1   42   0.36   3059"
      ]
     },
     "execution_count": 55,
     "metadata": {},
     "output_type": "execute_result"
    }
   ],
   "source": [
    "homes.tail()"
   ]
  },
  {
   "cell_type": "code",
   "execution_count": 56,
   "id": "08de1c72",
   "metadata": {},
   "outputs": [
    {
     "data": {
      "text/html": [
       "<div>\n",
       "<style scoped>\n",
       "    .dataframe tbody tr th:only-of-type {\n",
       "        vertical-align: middle;\n",
       "    }\n",
       "\n",
       "    .dataframe tbody tr th {\n",
       "        vertical-align: top;\n",
       "    }\n",
       "\n",
       "    .dataframe thead th {\n",
       "        text-align: right;\n",
       "    }\n",
       "</style>\n",
       "<table border=\"1\" class=\"dataframe\">\n",
       "  <thead>\n",
       "    <tr style=\"text-align: right;\">\n",
       "      <th></th>\n",
       "      <th>Sell</th>\n",
       "      <th>List</th>\n",
       "      <th>Living</th>\n",
       "      <th>Rooms</th>\n",
       "      <th>Beds</th>\n",
       "      <th>Baths</th>\n",
       "      <th>Age</th>\n",
       "      <th>Acres</th>\n",
       "      <th>Taxes</th>\n",
       "    </tr>\n",
       "  </thead>\n",
       "  <tbody>\n",
       "    <tr>\n",
       "      <th>count</th>\n",
       "      <td>50.000000</td>\n",
       "      <td>50.000000</td>\n",
       "      <td>50.000000</td>\n",
       "      <td>50.000000</td>\n",
       "      <td>50.000000</td>\n",
       "      <td>50.000000</td>\n",
       "      <td>50.000000</td>\n",
       "      <td>50.000000</td>\n",
       "      <td>50.000000</td>\n",
       "    </tr>\n",
       "    <tr>\n",
       "      <th>mean</th>\n",
       "      <td>170.360000</td>\n",
       "      <td>178.340000</td>\n",
       "      <td>21.120000</td>\n",
       "      <td>8.060000</td>\n",
       "      <td>3.820000</td>\n",
       "      <td>1.860000</td>\n",
       "      <td>30.220000</td>\n",
       "      <td>1.020600</td>\n",
       "      <td>3706.100000</td>\n",
       "    </tr>\n",
       "    <tr>\n",
       "      <th>std</th>\n",
       "      <td>72.755885</td>\n",
       "      <td>79.382723</td>\n",
       "      <td>8.351072</td>\n",
       "      <td>1.284285</td>\n",
       "      <td>0.690755</td>\n",
       "      <td>0.756199</td>\n",
       "      <td>30.962314</td>\n",
       "      <td>1.191496</td>\n",
       "      <td>1579.915268</td>\n",
       "    </tr>\n",
       "    <tr>\n",
       "      <th>min</th>\n",
       "      <td>87.000000</td>\n",
       "      <td>90.000000</td>\n",
       "      <td>10.000000</td>\n",
       "      <td>5.000000</td>\n",
       "      <td>3.000000</td>\n",
       "      <td>1.000000</td>\n",
       "      <td>2.000000</td>\n",
       "      <td>0.220000</td>\n",
       "      <td>1445.000000</td>\n",
       "    </tr>\n",
       "    <tr>\n",
       "      <th>25%</th>\n",
       "      <td>135.000000</td>\n",
       "      <td>140.000000</td>\n",
       "      <td>17.000000</td>\n",
       "      <td>7.000000</td>\n",
       "      <td>3.000000</td>\n",
       "      <td>1.000000</td>\n",
       "      <td>12.250000</td>\n",
       "      <td>0.382500</td>\n",
       "      <td>3107.000000</td>\n",
       "    </tr>\n",
       "    <tr>\n",
       "      <th>50%</th>\n",
       "      <td>152.000000</td>\n",
       "      <td>160.000000</td>\n",
       "      <td>20.000000</td>\n",
       "      <td>8.000000</td>\n",
       "      <td>4.000000</td>\n",
       "      <td>2.000000</td>\n",
       "      <td>24.500000</td>\n",
       "      <td>0.550000</td>\n",
       "      <td>3490.000000</td>\n",
       "    </tr>\n",
       "    <tr>\n",
       "      <th>75%</th>\n",
       "      <td>182.250000</td>\n",
       "      <td>190.000000</td>\n",
       "      <td>22.750000</td>\n",
       "      <td>9.000000</td>\n",
       "      <td>4.000000</td>\n",
       "      <td>2.000000</td>\n",
       "      <td>37.000000</td>\n",
       "      <td>1.182500</td>\n",
       "      <td>3919.250000</td>\n",
       "    </tr>\n",
       "    <tr>\n",
       "      <th>max</th>\n",
       "      <td>567.000000</td>\n",
       "      <td>625.000000</td>\n",
       "      <td>64.000000</td>\n",
       "      <td>12.000000</td>\n",
       "      <td>6.000000</td>\n",
       "      <td>4.000000</td>\n",
       "      <td>202.000000</td>\n",
       "      <td>6.490000</td>\n",
       "      <td>12192.000000</td>\n",
       "    </tr>\n",
       "  </tbody>\n",
       "</table>\n",
       "</div>"
      ],
      "text/plain": [
       "             Sell        List     Living      Rooms       Beds      Baths  \\\n",
       "count   50.000000   50.000000  50.000000  50.000000  50.000000  50.000000   \n",
       "mean   170.360000  178.340000  21.120000   8.060000   3.820000   1.860000   \n",
       "std     72.755885   79.382723   8.351072   1.284285   0.690755   0.756199   \n",
       "min     87.000000   90.000000  10.000000   5.000000   3.000000   1.000000   \n",
       "25%    135.000000  140.000000  17.000000   7.000000   3.000000   1.000000   \n",
       "50%    152.000000  160.000000  20.000000   8.000000   4.000000   2.000000   \n",
       "75%    182.250000  190.000000  22.750000   9.000000   4.000000   2.000000   \n",
       "max    567.000000  625.000000  64.000000  12.000000   6.000000   4.000000   \n",
       "\n",
       "              Age      Acres         Taxes  \n",
       "count   50.000000  50.000000     50.000000  \n",
       "mean    30.220000   1.020600   3706.100000  \n",
       "std     30.962314   1.191496   1579.915268  \n",
       "min      2.000000   0.220000   1445.000000  \n",
       "25%     12.250000   0.382500   3107.000000  \n",
       "50%     24.500000   0.550000   3490.000000  \n",
       "75%     37.000000   1.182500   3919.250000  \n",
       "max    202.000000   6.490000  12192.000000  "
      ]
     },
     "execution_count": 56,
     "metadata": {},
     "output_type": "execute_result"
    }
   ],
   "source": [
    "homes.describe()"
   ]
  },
  {
   "cell_type": "markdown",
   "id": "a5737568",
   "metadata": {},
   "source": [
    "The data set includes details of houses like their selling price, list price, number of rooms, bedrooms, bathrooms, age of the house, acres and taxes. The above table shows various statistics of the dataset. We can see the costliest and cheapeast homes. Note-The selling price and list price are in thousands."
   ]
  },
  {
   "cell_type": "code",
   "execution_count": 57,
   "id": "46046370",
   "metadata": {},
   "outputs": [
    {
     "name": "stdout",
     "output_type": "stream",
     "text": [
      "<class 'pandas.core.frame.DataFrame'>\n",
      "RangeIndex: 50 entries, 0 to 49\n",
      "Data columns (total 9 columns):\n",
      " #   Column  Non-Null Count  Dtype  \n",
      "---  ------  --------------  -----  \n",
      " 0   Sell    50 non-null     int64  \n",
      " 1   List    50 non-null     int64  \n",
      " 2   Living  50 non-null     int64  \n",
      " 3   Rooms   50 non-null     int64  \n",
      " 4   Beds    50 non-null     int64  \n",
      " 5   Baths   50 non-null     int64  \n",
      " 6   Age     50 non-null     int64  \n",
      " 7   Acres   50 non-null     float64\n",
      " 8   Taxes   50 non-null     int64  \n",
      "dtypes: float64(1), int64(8)\n",
      "memory usage: 3.6 KB\n"
     ]
    }
   ],
   "source": [
    "homes.info()"
   ]
  },
  {
   "cell_type": "markdown",
   "id": "d8668928",
   "metadata": {},
   "source": [
    "We can see a summary of the dataset showing data types and missing values, if any. This can be seen as a pre cleaning step so we can learn more about our dataset. Our data set has 9 columns and 50 rows without any missing values, all of which are integer with 64 bit except Acres which is float with 64 bits."
   ]
  },
  {
   "cell_type": "code",
   "execution_count": 58,
   "id": "3799c5d4",
   "metadata": {},
   "outputs": [
    {
     "data": {
      "text/html": [
       "<div>\n",
       "<style scoped>\n",
       "    .dataframe tbody tr th:only-of-type {\n",
       "        vertical-align: middle;\n",
       "    }\n",
       "\n",
       "    .dataframe tbody tr th {\n",
       "        vertical-align: top;\n",
       "    }\n",
       "\n",
       "    .dataframe thead th {\n",
       "        text-align: right;\n",
       "    }\n",
       "</style>\n",
       "<table border=\"1\" class=\"dataframe\">\n",
       "  <thead>\n",
       "    <tr style=\"text-align: right;\">\n",
       "      <th></th>\n",
       "      <th>Sell</th>\n",
       "      <th>List</th>\n",
       "      <th>Living</th>\n",
       "      <th>Rooms</th>\n",
       "      <th>Beds</th>\n",
       "      <th>Baths</th>\n",
       "      <th>Age</th>\n",
       "      <th>Acres</th>\n",
       "      <th>Taxes</th>\n",
       "    </tr>\n",
       "  </thead>\n",
       "  <tbody>\n",
       "    <tr>\n",
       "      <th>Sell</th>\n",
       "      <td>1.000000</td>\n",
       "      <td>0.997433</td>\n",
       "      <td>0.879381</td>\n",
       "      <td>0.560425</td>\n",
       "      <td>0.335113</td>\n",
       "      <td>0.640059</td>\n",
       "      <td>-0.147343</td>\n",
       "      <td>0.168713</td>\n",
       "      <td>0.899339</td>\n",
       "    </tr>\n",
       "    <tr>\n",
       "      <th>List</th>\n",
       "      <td>0.997433</td>\n",
       "      <td>1.000000</td>\n",
       "      <td>0.891618</td>\n",
       "      <td>0.570704</td>\n",
       "      <td>0.320470</td>\n",
       "      <td>0.640295</td>\n",
       "      <td>-0.130325</td>\n",
       "      <td>0.166838</td>\n",
       "      <td>0.906636</td>\n",
       "    </tr>\n",
       "    <tr>\n",
       "      <th>Living</th>\n",
       "      <td>0.879381</td>\n",
       "      <td>0.891618</td>\n",
       "      <td>1.000000</td>\n",
       "      <td>0.750933</td>\n",
       "      <td>0.467277</td>\n",
       "      <td>0.668437</td>\n",
       "      <td>0.125075</td>\n",
       "      <td>0.177488</td>\n",
       "      <td>0.810243</td>\n",
       "    </tr>\n",
       "    <tr>\n",
       "      <th>Rooms</th>\n",
       "      <td>0.560425</td>\n",
       "      <td>0.570704</td>\n",
       "      <td>0.750933</td>\n",
       "      <td>1.000000</td>\n",
       "      <td>0.656557</td>\n",
       "      <td>0.555187</td>\n",
       "      <td>0.371237</td>\n",
       "      <td>0.282448</td>\n",
       "      <td>0.516593</td>\n",
       "    </tr>\n",
       "    <tr>\n",
       "      <th>Beds</th>\n",
       "      <td>0.335113</td>\n",
       "      <td>0.320470</td>\n",
       "      <td>0.467277</td>\n",
       "      <td>0.656557</td>\n",
       "      <td>1.000000</td>\n",
       "      <td>0.458682</td>\n",
       "      <td>0.141205</td>\n",
       "      <td>0.036832</td>\n",
       "      <td>0.313638</td>\n",
       "    </tr>\n",
       "    <tr>\n",
       "      <th>Baths</th>\n",
       "      <td>0.640059</td>\n",
       "      <td>0.640295</td>\n",
       "      <td>0.668437</td>\n",
       "      <td>0.555187</td>\n",
       "      <td>0.458682</td>\n",
       "      <td>1.000000</td>\n",
       "      <td>-0.023063</td>\n",
       "      <td>0.301119</td>\n",
       "      <td>0.582622</td>\n",
       "    </tr>\n",
       "    <tr>\n",
       "      <th>Age</th>\n",
       "      <td>-0.147343</td>\n",
       "      <td>-0.130325</td>\n",
       "      <td>0.125075</td>\n",
       "      <td>0.371237</td>\n",
       "      <td>0.141205</td>\n",
       "      <td>-0.023063</td>\n",
       "      <td>1.000000</td>\n",
       "      <td>0.303733</td>\n",
       "      <td>-0.189221</td>\n",
       "    </tr>\n",
       "    <tr>\n",
       "      <th>Acres</th>\n",
       "      <td>0.168713</td>\n",
       "      <td>0.166838</td>\n",
       "      <td>0.177488</td>\n",
       "      <td>0.282448</td>\n",
       "      <td>0.036832</td>\n",
       "      <td>0.301119</td>\n",
       "      <td>0.303733</td>\n",
       "      <td>1.000000</td>\n",
       "      <td>0.059647</td>\n",
       "    </tr>\n",
       "    <tr>\n",
       "      <th>Taxes</th>\n",
       "      <td>0.899339</td>\n",
       "      <td>0.906636</td>\n",
       "      <td>0.810243</td>\n",
       "      <td>0.516593</td>\n",
       "      <td>0.313638</td>\n",
       "      <td>0.582622</td>\n",
       "      <td>-0.189221</td>\n",
       "      <td>0.059647</td>\n",
       "      <td>1.000000</td>\n",
       "    </tr>\n",
       "  </tbody>\n",
       "</table>\n",
       "</div>"
      ],
      "text/plain": [
       "            Sell      List    Living     Rooms      Beds     Baths       Age  \\\n",
       "Sell    1.000000  0.997433  0.879381  0.560425  0.335113  0.640059 -0.147343   \n",
       "List    0.997433  1.000000  0.891618  0.570704  0.320470  0.640295 -0.130325   \n",
       "Living  0.879381  0.891618  1.000000  0.750933  0.467277  0.668437  0.125075   \n",
       "Rooms   0.560425  0.570704  0.750933  1.000000  0.656557  0.555187  0.371237   \n",
       "Beds    0.335113  0.320470  0.467277  0.656557  1.000000  0.458682  0.141205   \n",
       "Baths   0.640059  0.640295  0.668437  0.555187  0.458682  1.000000 -0.023063   \n",
       "Age    -0.147343 -0.130325  0.125075  0.371237  0.141205 -0.023063  1.000000   \n",
       "Acres   0.168713  0.166838  0.177488  0.282448  0.036832  0.301119  0.303733   \n",
       "Taxes   0.899339  0.906636  0.810243  0.516593  0.313638  0.582622 -0.189221   \n",
       "\n",
       "           Acres     Taxes  \n",
       "Sell    0.168713  0.899339  \n",
       "List    0.166838  0.906636  \n",
       "Living  0.177488  0.810243  \n",
       "Rooms   0.282448  0.516593  \n",
       "Beds    0.036832  0.313638  \n",
       "Baths   0.301119  0.582622  \n",
       "Age     0.303733 -0.189221  \n",
       "Acres   1.000000  0.059647  \n",
       "Taxes   0.059647  1.000000  "
      ]
     },
     "execution_count": 58,
     "metadata": {},
     "output_type": "execute_result"
    }
   ],
   "source": [
    "homes.corr()"
   ]
  },
  {
   "cell_type": "markdown",
   "id": "1411ddcf",
   "metadata": {},
   "source": [
    "This gives the correlation of each of the variables against all others. The purpose of this is to get abasic understanding of which variable has the highest correlation with \"Sell\" i.e stringly related so we can use it for further analysis. We can see that Living has the highest correlation with the selling price after Taxes. (we ignore List as both List and Sell are values for the selling price itself)"
   ]
  },
  {
   "cell_type": "code",
   "execution_count": 59,
   "id": "b8009b10",
   "metadata": {},
   "outputs": [
    {
     "data": {
      "image/png": "[encoded data removed]",
      "text/plain": [
       "<Figure size 640x480 with 1 Axes>"
      ]
     },
     "metadata": {},
     "output_type": "display_data"
    }
   ],
   "source": [
    "plt.hist(homes['Sell']);"
   ]
  },
  {
   "cell_type": "markdown",
   "id": "27fde733",
   "metadata": {},
   "source": [
    "This histogram of the dependent variable \"Sell\" gives us distribution of the selling price column. This helps us understand the frequency of houses sold in a particular price range and any outliers. This will help us for any further analysis. We can see that highest number of houses are sold between 100-200 and we have 1 outlier above 500."
   ]
  },
  {
   "cell_type": "code",
   "execution_count": 61,
   "id": "13d954b7",
   "metadata": {},
   "outputs": [
    {
     "data": {
      "image/png": "[encoded data removed]",
      "text/plain": [
       "<Figure size 640x480 with 1 Axes>"
      ]
     },
     "metadata": {},
     "output_type": "display_data"
    }
   ],
   "source": [
    "plt.hist(homes['Taxes']);"
   ]
  },
  {
   "cell_type": "code",
   "execution_count": 62,
   "id": "ed2c7658",
   "metadata": {},
   "outputs": [
    {
     "data": {
      "image/png": "[encoded data removed]",
      "text/plain": [
       "<Figure size 640x480 with 1 Axes>"
      ]
     },
     "metadata": {},
     "output_type": "display_data"
    }
   ],
   "source": [
    "plt.boxplot(homes['Sell']);"
   ]
  },
  {
   "cell_type": "code",
   "execution_count": 5,
   "id": "39d6143f",
   "metadata": {},
   "outputs": [],
   "source": [
    "homes_new = homes[homes['Sell'] < 240]"
   ]
  },
  {
   "cell_type": "code",
   "execution_count": 64,
   "id": "16b0a92f",
   "metadata": {},
   "outputs": [
    {
     "data": {
      "text/html": [
       "<div>\n",
       "<style scoped>\n",
       "    .dataframe tbody tr th:only-of-type {\n",
       "        vertical-align: middle;\n",
       "    }\n",
       "\n",
       "    .dataframe tbody tr th {\n",
       "        vertical-align: top;\n",
       "    }\n",
       "\n",
       "    .dataframe thead th {\n",
       "        text-align: right;\n",
       "    }\n",
       "</style>\n",
       "<table border=\"1\" class=\"dataframe\">\n",
       "  <thead>\n",
       "    <tr style=\"text-align: right;\">\n",
       "      <th></th>\n",
       "      <th>Sell</th>\n",
       "      <th>List</th>\n",
       "      <th>Living</th>\n",
       "      <th>Rooms</th>\n",
       "      <th>Beds</th>\n",
       "      <th>Baths</th>\n",
       "      <th>Age</th>\n",
       "      <th>Acres</th>\n",
       "      <th>Taxes</th>\n",
       "    </tr>\n",
       "  </thead>\n",
       "  <tbody>\n",
       "    <tr>\n",
       "      <th>count</th>\n",
       "      <td>45.000000</td>\n",
       "      <td>45.000000</td>\n",
       "      <td>45.000000</td>\n",
       "      <td>45.000000</td>\n",
       "      <td>45.000000</td>\n",
       "      <td>45.000000</td>\n",
       "      <td>45.000000</td>\n",
       "      <td>45.000000</td>\n",
       "      <td>45.000000</td>\n",
       "    </tr>\n",
       "    <tr>\n",
       "      <th>mean</th>\n",
       "      <td>152.777778</td>\n",
       "      <td>159.555556</td>\n",
       "      <td>19.355556</td>\n",
       "      <td>7.888889</td>\n",
       "      <td>3.733333</td>\n",
       "      <td>1.755556</td>\n",
       "      <td>31.866667</td>\n",
       "      <td>1.038667</td>\n",
       "      <td>3329.866667</td>\n",
       "    </tr>\n",
       "    <tr>\n",
       "      <th>std</th>\n",
       "      <td>33.078343</td>\n",
       "      <td>34.426836</td>\n",
       "      <td>4.890415</td>\n",
       "      <td>1.191298</td>\n",
       "      <td>0.617914</td>\n",
       "      <td>0.679423</td>\n",
       "      <td>31.938577</td>\n",
       "      <td>1.251181</td>\n",
       "      <td>723.845526</td>\n",
       "    </tr>\n",
       "    <tr>\n",
       "      <th>min</th>\n",
       "      <td>87.000000</td>\n",
       "      <td>90.000000</td>\n",
       "      <td>10.000000</td>\n",
       "      <td>5.000000</td>\n",
       "      <td>3.000000</td>\n",
       "      <td>1.000000</td>\n",
       "      <td>2.000000</td>\n",
       "      <td>0.220000</td>\n",
       "      <td>1445.000000</td>\n",
       "    </tr>\n",
       "    <tr>\n",
       "      <th>25%</th>\n",
       "      <td>133.000000</td>\n",
       "      <td>140.000000</td>\n",
       "      <td>17.000000</td>\n",
       "      <td>7.000000</td>\n",
       "      <td>3.000000</td>\n",
       "      <td>1.000000</td>\n",
       "      <td>13.000000</td>\n",
       "      <td>0.360000</td>\n",
       "      <td>3059.000000</td>\n",
       "    </tr>\n",
       "    <tr>\n",
       "      <th>50%</th>\n",
       "      <td>150.000000</td>\n",
       "      <td>157.000000</td>\n",
       "      <td>19.000000</td>\n",
       "      <td>8.000000</td>\n",
       "      <td>4.000000</td>\n",
       "      <td>2.000000</td>\n",
       "      <td>25.000000</td>\n",
       "      <td>0.520000</td>\n",
       "      <td>3363.000000</td>\n",
       "    </tr>\n",
       "    <tr>\n",
       "      <th>75%</th>\n",
       "      <td>175.000000</td>\n",
       "      <td>180.000000</td>\n",
       "      <td>22.000000</td>\n",
       "      <td>8.000000</td>\n",
       "      <td>4.000000</td>\n",
       "      <td>2.000000</td>\n",
       "      <td>41.000000</td>\n",
       "      <td>1.130000</td>\n",
       "      <td>3765.000000</td>\n",
       "    </tr>\n",
       "    <tr>\n",
       "      <th>max</th>\n",
       "      <td>234.000000</td>\n",
       "      <td>240.000000</td>\n",
       "      <td>39.000000</td>\n",
       "      <td>12.000000</td>\n",
       "      <td>5.000000</td>\n",
       "      <td>3.000000</td>\n",
       "      <td>202.000000</td>\n",
       "      <td>6.490000</td>\n",
       "      <td>5158.000000</td>\n",
       "    </tr>\n",
       "  </tbody>\n",
       "</table>\n",
       "</div>"
      ],
      "text/plain": [
       "             Sell        List     Living      Rooms       Beds      Baths  \\\n",
       "count   45.000000   45.000000  45.000000  45.000000  45.000000  45.000000   \n",
       "mean   152.777778  159.555556  19.355556   7.888889   3.733333   1.755556   \n",
       "std     33.078343   34.426836   4.890415   1.191298   0.617914   0.679423   \n",
       "min     87.000000   90.000000  10.000000   5.000000   3.000000   1.000000   \n",
       "25%    133.000000  140.000000  17.000000   7.000000   3.000000   1.000000   \n",
       "50%    150.000000  157.000000  19.000000   8.000000   4.000000   2.000000   \n",
       "75%    175.000000  180.000000  22.000000   8.000000   4.000000   2.000000   \n",
       "max    234.000000  240.000000  39.000000  12.000000   5.000000   3.000000   \n",
       "\n",
       "              Age      Acres        Taxes  \n",
       "count   45.000000  45.000000    45.000000  \n",
       "mean    31.866667   1.038667  3329.866667  \n",
       "std     31.938577   1.251181   723.845526  \n",
       "min      2.000000   0.220000  1445.000000  \n",
       "25%     13.000000   0.360000  3059.000000  \n",
       "50%     25.000000   0.520000  3363.000000  \n",
       "75%     41.000000   1.130000  3765.000000  \n",
       "max    202.000000   6.490000  5158.000000  "
      ]
     },
     "execution_count": 64,
     "metadata": {},
     "output_type": "execute_result"
    }
   ],
   "source": [
    "homes_new.describe()"
   ]
  },
  {
   "cell_type": "code",
   "execution_count": 65,
   "id": "312ed9e3",
   "metadata": {},
   "outputs": [
    {
     "data": {
      "image/png": "[encoded data removed]",
      "text/plain": [
       "<Figure size 640x480 with 1 Axes>"
      ]
     },
     "metadata": {},
     "output_type": "display_data"
    }
   ],
   "source": [
    "plt.boxplot(homes_new['Sell']);"
   ]
  },
  {
   "cell_type": "code",
   "execution_count": 7,
   "id": "1a1bfb60",
   "metadata": {},
   "outputs": [
    {
     "data": {
      "image/png": "[encoded data removed]",
      "text/plain": [
       "<Figure size 640x480 with 1 Axes>"
      ]
     },
     "metadata": {},
     "output_type": "display_data"
    }
   ],
   "source": [
    "plt.scatter(homes_new['Sell'],homes_new['Taxes']);"
   ]
  },
  {
   "cell_type": "code",
   "execution_count": 6,
   "id": "8054729a",
   "metadata": {},
   "outputs": [
    {
     "data": {
      "text/html": [
       "<div>\n",
       "<style scoped>\n",
       "    .dataframe tbody tr th:only-of-type {\n",
       "        vertical-align: middle;\n",
       "    }\n",
       "\n",
       "    .dataframe tbody tr th {\n",
       "        vertical-align: top;\n",
       "    }\n",
       "\n",
       "    .dataframe thead th {\n",
       "        text-align: right;\n",
       "    }\n",
       "</style>\n",
       "<table border=\"1\" class=\"dataframe\">\n",
       "  <thead>\n",
       "    <tr style=\"text-align: right;\">\n",
       "      <th></th>\n",
       "      <th>const</th>\n",
       "      <th>Taxes</th>\n",
       "    </tr>\n",
       "  </thead>\n",
       "  <tbody>\n",
       "    <tr>\n",
       "      <th>0</th>\n",
       "      <td>1.0</td>\n",
       "      <td>3167</td>\n",
       "    </tr>\n",
       "    <tr>\n",
       "      <th>1</th>\n",
       "      <td>1.0</td>\n",
       "      <td>4033</td>\n",
       "    </tr>\n",
       "    <tr>\n",
       "      <th>2</th>\n",
       "      <td>1.0</td>\n",
       "      <td>1471</td>\n",
       "    </tr>\n",
       "    <tr>\n",
       "      <th>3</th>\n",
       "      <td>1.0</td>\n",
       "      <td>3204</td>\n",
       "    </tr>\n",
       "    <tr>\n",
       "      <th>4</th>\n",
       "      <td>1.0</td>\n",
       "      <td>3613</td>\n",
       "    </tr>\n",
       "  </tbody>\n",
       "</table>\n",
       "</div>"
      ],
      "text/plain": [
       "   const  Taxes\n",
       "0    1.0   3167\n",
       "1    1.0   4033\n",
       "2    1.0   1471\n",
       "3    1.0   3204\n",
       "4    1.0   3613"
      ]
     },
     "execution_count": 6,
     "metadata": {},
     "output_type": "execute_result"
    }
   ],
   "source": [
    "y = homes['Sell']\n",
    "x = homes['Taxes']\n",
    "x = sm.add_constant(x)\n",
    "x.head()"
   ]
  },
  {
   "cell_type": "code",
   "execution_count": 7,
   "id": "4f2119da",
   "metadata": {},
   "outputs": [],
   "source": [
    "model = sm.OLS(y,x).fit()"
   ]
  },
  {
   "cell_type": "code",
   "execution_count": 8,
   "id": "1e9bab42",
   "metadata": {},
   "outputs": [
    {
     "data": {
      "text/html": [
       "<table class=\"simpletable\">\n",
       "<caption>OLS Regression Results</caption>\n",
       "<tr>\n",
       "  <th>Dep. Variable:</th>          <td>Sell</td>       <th>  R-squared:         </th> <td>   0.809</td>\n",
       "</tr>\n",
       "<tr>\n",
       "  <th>Model:</th>                   <td>OLS</td>       <th>  Adj. R-squared:    </th> <td>   0.805</td>\n",
       "</tr>\n",
       "<tr>\n",
       "  <th>Method:</th>             <td>Least Squares</td>  <th>  F-statistic:       </th> <td>   203.1</td>\n",
       "</tr>\n",
       "<tr>\n",
       "  <th>Date:</th>             <td>Fri, 16 Feb 2024</td> <th>  Prob (F-statistic):</th> <td>7.22e-19</td>\n",
       "</tr>\n",
       "<tr>\n",
       "  <th>Time:</th>                 <td>12:39:41</td>     <th>  Log-Likelihood:    </th> <td> -243.44</td>\n",
       "</tr>\n",
       "<tr>\n",
       "  <th>No. Observations:</th>      <td>    50</td>      <th>  AIC:               </th> <td>   490.9</td>\n",
       "</tr>\n",
       "<tr>\n",
       "  <th>Df Residuals:</th>          <td>    48</td>      <th>  BIC:               </th> <td>   494.7</td>\n",
       "</tr>\n",
       "<tr>\n",
       "  <th>Df Model:</th>              <td>     1</td>      <th>                     </th>     <td> </td>   \n",
       "</tr>\n",
       "<tr>\n",
       "  <th>Covariance Type:</th>      <td>nonrobust</td>    <th>                     </th>     <td> </td>   \n",
       "</tr>\n",
       "</table>\n",
       "<table class=\"simpletable\">\n",
       "<tr>\n",
       "    <td></td>       <th>coef</th>     <th>std err</th>      <th>t</th>      <th>P>|t|</th>  <th>[0.025</th>    <th>0.975]</th>  \n",
       "</tr>\n",
       "<tr>\n",
       "  <th>const</th> <td>   16.8719</td> <td>   11.691</td> <td>    1.443</td> <td> 0.155</td> <td>   -6.635</td> <td>   40.378</td>\n",
       "</tr>\n",
       "<tr>\n",
       "  <th>Taxes</th> <td>    0.0414</td> <td>    0.003</td> <td>   14.250</td> <td> 0.000</td> <td>    0.036</td> <td>    0.047</td>\n",
       "</tr>\n",
       "</table>\n",
       "<table class=\"simpletable\">\n",
       "<tr>\n",
       "  <th>Omnibus:</th>       <td>28.767</td> <th>  Durbin-Watson:     </th> <td>   2.121</td>\n",
       "</tr>\n",
       "<tr>\n",
       "  <th>Prob(Omnibus):</th> <td> 0.000</td> <th>  Jarque-Bera (JB):  </th> <td>  59.574</td>\n",
       "</tr>\n",
       "<tr>\n",
       "  <th>Skew:</th>          <td> 1.690</td> <th>  Prob(JB):          </th> <td>1.16e-13</td>\n",
       "</tr>\n",
       "<tr>\n",
       "  <th>Kurtosis:</th>      <td> 7.144</td> <th>  Cond. No.          </th> <td>1.03e+04</td>\n",
       "</tr>\n",
       "</table><br/><br/>Notes:<br/>[1] Standard Errors assume that the covariance matrix of the errors is correctly specified.<br/>[2] The condition number is large, 1.03e+04. This might indicate that there are<br/>strong multicollinearity or other numerical problems."
      ],
      "text/plain": [
       "<class 'statsmodels.iolib.summary.Summary'>\n",
       "\"\"\"\n",
       "                            OLS Regression Results                            \n",
       "==============================================================================\n",
       "Dep. Variable:                   Sell   R-squared:                       0.809\n",
       "Model:                            OLS   Adj. R-squared:                  0.805\n",
       "Method:                 Least Squares   F-statistic:                     203.1\n",
       "Date:                Fri, 16 Feb 2024   Prob (F-statistic):           7.22e-19\n",
       "Time:                        12:39:41   Log-Likelihood:                -243.44\n",
       "No. Observations:                  50   AIC:                             490.9\n",
       "Df Residuals:                      48   BIC:                             494.7\n",
       "Df Model:                           1                                         \n",
       "Covariance Type:            nonrobust                                         \n",
       "==============================================================================\n",
       "                 coef    std err          t      P>|t|      [0.025      0.975]\n",
       "------------------------------------------------------------------------------\n",
       "const         16.8719     11.691      1.443      0.155      -6.635      40.378\n",
       "Taxes          0.0414      0.003     14.250      0.000       0.036       0.047\n",
       "==============================================================================\n",
       "Omnibus:                       28.767   Durbin-Watson:                   2.121\n",
       "Prob(Omnibus):                  0.000   Jarque-Bera (JB):               59.574\n",
       "Skew:                           1.690   Prob(JB):                     1.16e-13\n",
       "Kurtosis:                       7.144   Cond. No.                     1.03e+04\n",
       "==============================================================================\n",
       "\n",
       "Notes:\n",
       "[1] Standard Errors assume that the covariance matrix of the errors is correctly specified.\n",
       "[2] The condition number is large, 1.03e+04. This might indicate that there are\n",
       "strong multicollinearity or other numerical problems.\n",
       "\"\"\""
      ]
     },
     "execution_count": 8,
     "metadata": {},
     "output_type": "execute_result"
    }
   ],
   "source": [
    "model.summary()"
   ]
  },
  {
   "cell_type": "code",
   "execution_count": 9,
   "id": "3c8a0ed9",
   "metadata": {},
   "outputs": [
    {
     "data": {
      "text/plain": [
       "31.492964512226578"
      ]
     },
     "execution_count": 9,
     "metadata": {},
     "output_type": "execute_result"
    }
   ],
   "source": [
    "np.sqrt((((y) - model.predict(x)) **2 ).mean())"
   ]
  },
  {
   "cell_type": "code",
   "execution_count": 10,
   "id": "83601036",
   "metadata": {},
   "outputs": [
    {
     "data": {
      "text/plain": [
       "0     148.033175\n",
       "1     183.898563\n",
       "2      77.793340\n",
       "3     149.565530\n",
       "4     166.504264\n",
       "5     142.276490\n",
       "6     146.542235\n",
       "7     230.490434\n",
       "8     253.020193\n",
       "9     101.938283\n",
       "10    187.791572\n",
       "11     76.716550\n",
       "12    103.304978\n",
       "13    133.579341\n",
       "14    179.094423\n",
       "15    108.813173\n",
       "16    161.741539\n",
       "17    166.255774\n",
       "18    167.953789\n",
       "19    164.350684\n",
       "20    210.735481\n",
       "21    310.421379\n",
       "22    161.078899\n",
       "23    179.218668\n",
       "24    189.241097\n",
       "25    173.627643\n",
       "26    145.382615\n",
       "27    156.150514\n",
       "28    521.803524\n",
       "29    175.532733\n",
       "30    164.474929\n",
       "31    172.799343\n",
       "32    156.067684\n",
       "33    180.461118\n",
       "34    143.394695\n",
       "35    139.046121\n",
       "36    155.446460\n",
       "37    154.949480\n",
       "38    259.273857\n",
       "39    181.786398\n",
       "40    156.606079\n",
       "41    146.045255\n",
       "42    152.216090\n",
       "43    167.953789\n",
       "44    132.129816\n",
       "45    117.841642\n",
       "46    163.025404\n",
       "47    208.457656\n",
       "48    149.606945\n",
       "49    143.560355\n",
       "dtype: float64"
      ]
     },
     "execution_count": 10,
     "metadata": {},
     "output_type": "execute_result"
    }
   ],
   "source": [
    "model.predict(x)"
   ]
  },
  {
   "cell_type": "code",
   "execution_count": 5,
   "id": "64520620",
   "metadata": {},
   "outputs": [],
   "source": [
    "ynew = homes_new['Sell']\n",
    "xnew = homes_new['Taxes']\n",
    "xnew = sm.add_constant(xnew)"
   ]
  },
  {
   "cell_type": "code",
   "execution_count": 6,
   "id": "90fbd1eb",
   "metadata": {},
   "outputs": [],
   "source": [
    "model_new = sm.OLS(ynew,xnew).fit()"
   ]
  },
  {
   "cell_type": "code",
   "execution_count": 7,
   "id": "c9c6a390",
   "metadata": {},
   "outputs": [
    {
     "data": {
      "text/html": [
       "<table class=\"simpletable\">\n",
       "<caption>OLS Regression Results</caption>\n",
       "<tr>\n",
       "  <th>Dep. Variable:</th>          <td>Sell</td>       <th>  R-squared:         </th> <td>   0.237</td>\n",
       "</tr>\n",
       "<tr>\n",
       "  <th>Model:</th>                   <td>OLS</td>       <th>  Adj. R-squared:    </th> <td>   0.219</td>\n",
       "</tr>\n",
       "<tr>\n",
       "  <th>Method:</th>             <td>Least Squares</td>  <th>  F-statistic:       </th> <td>   13.34</td>\n",
       "</tr>\n",
       "<tr>\n",
       "  <th>Date:</th>             <td>Sun, 18 Feb 2024</td> <th>  Prob (F-statistic):</th> <td>0.000700</td>\n",
       "</tr>\n",
       "<tr>\n",
       "  <th>Time:</th>                 <td>18:30:08</td>     <th>  Log-Likelihood:    </th> <td> -214.72</td>\n",
       "</tr>\n",
       "<tr>\n",
       "  <th>No. Observations:</th>      <td>    45</td>      <th>  AIC:               </th> <td>   433.4</td>\n",
       "</tr>\n",
       "<tr>\n",
       "  <th>Df Residuals:</th>          <td>    43</td>      <th>  BIC:               </th> <td>   437.0</td>\n",
       "</tr>\n",
       "<tr>\n",
       "  <th>Df Model:</th>              <td>     1</td>      <th>                     </th>     <td> </td>   \n",
       "</tr>\n",
       "<tr>\n",
       "  <th>Covariance Type:</th>      <td>nonrobust</td>    <th>                     </th>     <td> </td>   \n",
       "</tr>\n",
       "</table>\n",
       "<table class=\"simpletable\">\n",
       "<tr>\n",
       "    <td></td>       <th>coef</th>     <th>std err</th>      <th>t</th>      <th>P>|t|</th>  <th>[0.025</th>    <th>0.975]</th>  \n",
       "</tr>\n",
       "<tr>\n",
       "  <th>const</th> <td>   78.7304</td> <td>   20.736</td> <td>    3.797</td> <td> 0.000</td> <td>   36.913</td> <td>  120.548</td>\n",
       "</tr>\n",
       "<tr>\n",
       "  <th>Taxes</th> <td>    0.0222</td> <td>    0.006</td> <td>    3.653</td> <td> 0.001</td> <td>    0.010</td> <td>    0.035</td>\n",
       "</tr>\n",
       "</table>\n",
       "<table class=\"simpletable\">\n",
       "<tr>\n",
       "  <th>Omnibus:</th>       <td>22.731</td> <th>  Durbin-Watson:     </th> <td>   2.166</td>\n",
       "</tr>\n",
       "<tr>\n",
       "  <th>Prob(Omnibus):</th> <td> 0.000</td> <th>  Jarque-Bera (JB):  </th> <td>  38.077</td>\n",
       "</tr>\n",
       "<tr>\n",
       "  <th>Skew:</th>          <td> 1.489</td> <th>  Prob(JB):          </th> <td>5.39e-09</td>\n",
       "</tr>\n",
       "<tr>\n",
       "  <th>Kurtosis:</th>      <td> 6.383</td> <th>  Cond. No.          </th> <td>1.62e+04</td>\n",
       "</tr>\n",
       "</table><br/><br/>Notes:<br/>[1] Standard Errors assume that the covariance matrix of the errors is correctly specified.<br/>[2] The condition number is large, 1.62e+04. This might indicate that there are<br/>strong multicollinearity or other numerical problems."
      ],
      "text/plain": [
       "<class 'statsmodels.iolib.summary.Summary'>\n",
       "\"\"\"\n",
       "                            OLS Regression Results                            \n",
       "==============================================================================\n",
       "Dep. Variable:                   Sell   R-squared:                       0.237\n",
       "Model:                            OLS   Adj. R-squared:                  0.219\n",
       "Method:                 Least Squares   F-statistic:                     13.34\n",
       "Date:                Sun, 18 Feb 2024   Prob (F-statistic):           0.000700\n",
       "Time:                        18:30:08   Log-Likelihood:                -214.72\n",
       "No. Observations:                  45   AIC:                             433.4\n",
       "Df Residuals:                      43   BIC:                             437.0\n",
       "Df Model:                           1                                         \n",
       "Covariance Type:            nonrobust                                         \n",
       "==============================================================================\n",
       "                 coef    std err          t      P>|t|      [0.025      0.975]\n",
       "------------------------------------------------------------------------------\n",
       "const         78.7304     20.736      3.797      0.000      36.913     120.548\n",
       "Taxes          0.0222      0.006      3.653      0.001       0.010       0.035\n",
       "==============================================================================\n",
       "Omnibus:                       22.731   Durbin-Watson:                   2.166\n",
       "Prob(Omnibus):                  0.000   Jarque-Bera (JB):               38.077\n",
       "Skew:                           1.489   Prob(JB):                     5.39e-09\n",
       "Kurtosis:                       6.383   Cond. No.                     1.62e+04\n",
       "==============================================================================\n",
       "\n",
       "Notes:\n",
       "[1] Standard Errors assume that the covariance matrix of the errors is correctly specified.\n",
       "[2] The condition number is large, 1.62e+04. This might indicate that there are\n",
       "strong multicollinearity or other numerical problems.\n",
       "\"\"\""
      ]
     },
     "execution_count": 7,
     "metadata": {},
     "output_type": "execute_result"
    }
   ],
   "source": [
    "model_new.summary()"
   ]
  },
  {
   "cell_type": "code",
   "execution_count": 8,
   "id": "c51467c4",
   "metadata": {},
   "outputs": [
    {
     "data": {
      "text/plain": [
       "28.57490385857727"
      ]
     },
     "execution_count": 8,
     "metadata": {},
     "output_type": "execute_result"
    }
   ],
   "source": [
    "np.sqrt((((ynew) - model_new.predict(xnew)) **2 ).mean())"
   ]
  },
  {
   "cell_type": "code",
   "execution_count": 32,
   "id": "813a9d17",
   "metadata": {},
   "outputs": [
    {
     "data": {
      "text/plain": [
       "0     149.156055\n",
       "1     168.413598\n",
       "2     111.441513\n",
       "3     149.978837\n",
       "4     159.073912\n",
       "5     146.065064\n",
       "6     148.355511\n",
       "7     193.430615\n",
       "9     124.405887\n",
       "10    170.503909\n",
       "11    110.863342\n",
       "12    125.139719\n",
       "13    141.395221\n",
       "14    165.834066\n",
       "15    128.097287\n",
       "16    156.516617\n",
       "17    158.940488\n",
       "18    159.852219\n",
       "19    157.917570\n",
       "20    182.823400\n",
       "22    156.160820\n",
       "23    165.900778\n",
       "24    171.282216\n",
       "25    162.898736\n",
       "26    147.732865\n",
       "27    153.514575\n",
       "29    163.921654\n",
       "30    157.984282\n",
       "31    162.453989\n",
       "32    153.470101\n",
       "33    166.567898\n",
       "34    146.665472\n",
       "35    144.330551\n",
       "36    153.136540\n",
       "37    152.869692\n",
       "39    167.279494\n",
       "40    153.759186\n",
       "41    148.088662\n",
       "42    151.402027\n",
       "43    159.852219\n",
       "44    140.616913\n",
       "45    132.945028\n",
       "46    157.205975\n",
       "48    150.001074\n",
       "49    146.754421\n",
       "dtype: float64"
      ]
     },
     "execution_count": 32,
     "metadata": {},
     "output_type": "execute_result"
    }
   ],
   "source": [
    "model_new.predict(xnew)"
   ]
  },
  {
   "cell_type": "code",
   "execution_count": 16,
   "id": "199ea366",
   "metadata": {},
   "outputs": [],
   "source": [
    "reg = linear_model.LinearRegression()"
   ]
  },
  {
   "cell_type": "code",
   "execution_count": 11,
   "id": "47b905ff",
   "metadata": {},
   "outputs": [
    {
     "data": {
      "text/html": [
       "<style>#sk-container-id-1 {color: black;background-color: white;}#sk-container-id-1 pre{padding: 0;}#sk-container-id-1 div.sk-toggleable {background-color: white;}#sk-container-id-1 label.sk-toggleable__label {cursor: pointer;display: block;width: 100%;margin-bottom: 0;padding: 0.3em;box-sizing: border-box;text-align: center;}#sk-container-id-1 label.sk-toggleable__label-arrow:before {content: \"▸\";float: left;margin-right: 0.25em;color: #696969;}#sk-container-id-1 label.sk-toggleable__label-arrow:hover:before {color: black;}#sk-container-id-1 div.sk-estimator:hover label.sk-toggleable__label-arrow:before {color: black;}#sk-container-id-1 div.sk-toggleable__content {max-height: 0;max-width: 0;overflow: hidden;text-align: left;background-color: #f0f8ff;}#sk-container-id-1 div.sk-toggleable__content pre {margin: 0.2em;color: black;border-radius: 0.25em;background-color: #f0f8ff;}#sk-container-id-1 input.sk-toggleable__control:checked~div.sk-toggleable__content {max-height: 200px;max-width: 100%;overflow: auto;}#sk-container-id-1 input.sk-toggleable__control:checked~label.sk-toggleable__label-arrow:before {content: \"▾\";}#sk-container-id-1 div.sk-estimator input.sk-toggleable__control:checked~label.sk-toggleable__label {background-color: #d4ebff;}#sk-container-id-1 div.sk-label input.sk-toggleable__control:checked~label.sk-toggleable__label {background-color: #d4ebff;}#sk-container-id-1 input.sk-hidden--visually {border: 0;clip: rect(1px 1px 1px 1px);clip: rect(1px, 1px, 1px, 1px);height: 1px;margin: -1px;overflow: hidden;padding: 0;position: absolute;width: 1px;}#sk-container-id-1 div.sk-estimator {font-family: monospace;background-color: #f0f8ff;border: 1px dotted black;border-radius: 0.25em;box-sizing: border-box;margin-bottom: 0.5em;}#sk-container-id-1 div.sk-estimator:hover {background-color: #d4ebff;}#sk-container-id-1 div.sk-parallel-item::after {content: \"\";width: 100%;border-bottom: 1px solid gray;flex-grow: 1;}#sk-container-id-1 div.sk-label:hover label.sk-toggleable__label {background-color: #d4ebff;}#sk-container-id-1 div.sk-serial::before {content: \"\";position: absolute;border-left: 1px solid gray;box-sizing: border-box;top: 0;bottom: 0;left: 50%;z-index: 0;}#sk-container-id-1 div.sk-serial {display: flex;flex-direction: column;align-items: center;background-color: white;padding-right: 0.2em;padding-left: 0.2em;position: relative;}#sk-container-id-1 div.sk-item {position: relative;z-index: 1;}#sk-container-id-1 div.sk-parallel {display: flex;align-items: stretch;justify-content: center;background-color: white;position: relative;}#sk-container-id-1 div.sk-item::before, #sk-container-id-1 div.sk-parallel-item::before {content: \"\";position: absolute;border-left: 1px solid gray;box-sizing: border-box;top: 0;bottom: 0;left: 50%;z-index: -1;}#sk-container-id-1 div.sk-parallel-item {display: flex;flex-direction: column;z-index: 1;position: relative;background-color: white;}#sk-container-id-1 div.sk-parallel-item:first-child::after {align-self: flex-end;width: 50%;}#sk-container-id-1 div.sk-parallel-item:last-child::after {align-self: flex-start;width: 50%;}#sk-container-id-1 div.sk-parallel-item:only-child::after {width: 0;}#sk-container-id-1 div.sk-dashed-wrapped {border: 1px dashed gray;margin: 0 0.4em 0.5em 0.4em;box-sizing: border-box;padding-bottom: 0.4em;background-color: white;}#sk-container-id-1 div.sk-label label {font-family: monospace;font-weight: bold;display: inline-block;line-height: 1.2em;}#sk-container-id-1 div.sk-label-container {text-align: center;}#sk-container-id-1 div.sk-container {/* jupyter's `normalize.less` sets `[hidden] { display: none; }` but bootstrap.min.css set `[hidden] { display: none !important; }` so we also need the `!important` here to be able to override the default hidden behavior on the sphinx rendered scikit-learn.org. See: https://github.com/scikit-learn/scikit-learn/issues/21755 */display: inline-block !important;position: relative;}#sk-container-id-1 div.sk-text-repr-fallback {display: none;}</style><div id=\"sk-container-id-1\" class=\"sk-top-container\"><div class=\"sk-text-repr-fallback\"><pre>LinearRegression()</pre><b>In a Jupyter environment, please rerun this cell to show the HTML representation or trust the notebook. <br />On GitHub, the HTML representation is unable to render, please try loading this page with nbviewer.org.</b></div><div class=\"sk-container\" hidden><div class=\"sk-item\"><div class=\"sk-estimator sk-toggleable\"><input class=\"sk-toggleable__control sk-hidden--visually\" id=\"sk-estimator-id-1\" type=\"checkbox\" checked><label for=\"sk-estimator-id-1\" class=\"sk-toggleable__label sk-toggleable__label-arrow\">LinearRegression</label><div class=\"sk-toggleable__content\"><pre>LinearRegression()</pre></div></div></div></div></div>"
      ],
      "text/plain": [
       "LinearRegression()"
      ]
     },
     "execution_count": 11,
     "metadata": {},
     "output_type": "execute_result"
    }
   ],
   "source": [
    "reg.fit(xnew,ynew)"
   ]
  },
  {
   "cell_type": "code",
   "execution_count": 12,
   "id": "29a0ee25",
   "metadata": {},
   "outputs": [
    {
     "data": {
      "text/plain": [
       "array([0.        , 0.02223735])"
      ]
     },
     "execution_count": 12,
     "metadata": {},
     "output_type": "execute_result"
    }
   ],
   "source": [
    "reg.coef_"
   ]
  },
  {
   "cell_type": "code",
   "execution_count": 13,
   "id": "6254de7b",
   "metadata": {},
   "outputs": [
    {
     "data": {
      "text/plain": [
       "78.73037414139729"
      ]
     },
     "execution_count": 13,
     "metadata": {},
     "output_type": "execute_result"
    }
   ],
   "source": [
    "reg.intercept_"
   ]
  },
  {
   "cell_type": "code",
   "execution_count": 14,
   "id": "1e7d2ed1",
   "metadata": {},
   "outputs": [
    {
     "data": {
      "text/plain": [
       "array([149.15605504, 168.41359835, 111.44151295, 149.97883692,\n",
       "       159.07391222, 146.06506368, 148.35551052, 193.43061478,\n",
       "       124.4058868 , 170.50390906])"
      ]
     },
     "execution_count": 14,
     "metadata": {},
     "output_type": "execute_result"
    }
   ],
   "source": [
    "reg.predict(xnew)[:10]"
   ]
  },
  {
   "cell_type": "code",
   "execution_count": 15,
   "id": "4e824a33",
   "metadata": {},
   "outputs": [
    {
     "data": {
      "text/plain": [
       "28.574903858577272"
      ]
     },
     "execution_count": 15,
     "metadata": {},
     "output_type": "execute_result"
    }
   ],
   "source": [
    "mean_squared_error(ynew, reg.predict(xnew)) ** 0.5"
   ]
  },
  {
   "cell_type": "markdown",
   "id": "67a13a0f",
   "metadata": {},
   "source": [
    "Important statistics:\n",
    "Coefficient = 0.022 - If taxes increase by 1 unit, the sale price increases by 0.022 units (for every 1000 units), other variables being constant.\n",
    "Taxes is a good predictor of selling price since its p value is low."
   ]
  },
  {
   "cell_type": "code",
   "execution_count": null,
   "id": "add21a3c",
   "metadata": {},
   "outputs": [],
   "source": []
  },
  {
   "cell_type": "code",
   "execution_count": 8,
   "id": "5aca492b",
   "metadata": {},
   "outputs": [
    {
     "data": {
      "image/png": "[encoded data removed]",
      "text/plain": [
       "<Figure size 640x480 with 1 Axes>"
      ]
     },
     "metadata": {},
     "output_type": "display_data"
    }
   ],
   "source": [
    "plt.hist(homes_new['Rooms']);"
   ]
  },
  {
   "cell_type": "code",
   "execution_count": 9,
   "id": "feb0b069",
   "metadata": {},
   "outputs": [
    {
     "data": {
      "image/png": "[encoded data removed]",
      "text/plain": [
       "<Figure size 640x480 with 1 Axes>"
      ]
     },
     "metadata": {},
     "output_type": "display_data"
    }
   ],
   "source": [
    "plt.scatter(homes_new['Sell'],homes_new['Rooms']);"
   ]
  },
  {
   "cell_type": "code",
   "execution_count": 10,
   "id": "ddc5724b",
   "metadata": {},
   "outputs": [
    {
     "data": {
      "text/html": [
       "<div>\n",
       "<style scoped>\n",
       "    .dataframe tbody tr th:only-of-type {\n",
       "        vertical-align: middle;\n",
       "    }\n",
       "\n",
       "    .dataframe tbody tr th {\n",
       "        vertical-align: top;\n",
       "    }\n",
       "\n",
       "    .dataframe thead th {\n",
       "        text-align: right;\n",
       "    }\n",
       "</style>\n",
       "<table border=\"1\" class=\"dataframe\">\n",
       "  <thead>\n",
       "    <tr style=\"text-align: right;\">\n",
       "      <th></th>\n",
       "      <th>const</th>\n",
       "      <th>Rooms</th>\n",
       "    </tr>\n",
       "  </thead>\n",
       "  <tbody>\n",
       "    <tr>\n",
       "      <th>0</th>\n",
       "      <td>1.0</td>\n",
       "      <td>10</td>\n",
       "    </tr>\n",
       "    <tr>\n",
       "      <th>1</th>\n",
       "      <td>1.0</td>\n",
       "      <td>8</td>\n",
       "    </tr>\n",
       "    <tr>\n",
       "      <th>2</th>\n",
       "      <td>1.0</td>\n",
       "      <td>6</td>\n",
       "    </tr>\n",
       "    <tr>\n",
       "      <th>3</th>\n",
       "      <td>1.0</td>\n",
       "      <td>7</td>\n",
       "    </tr>\n",
       "    <tr>\n",
       "      <th>4</th>\n",
       "      <td>1.0</td>\n",
       "      <td>8</td>\n",
       "    </tr>\n",
       "  </tbody>\n",
       "</table>\n",
       "</div>"
      ],
      "text/plain": [
       "   const  Rooms\n",
       "0    1.0     10\n",
       "1    1.0      8\n",
       "2    1.0      6\n",
       "3    1.0      7\n",
       "4    1.0      8"
      ]
     },
     "execution_count": 10,
     "metadata": {},
     "output_type": "execute_result"
    }
   ],
   "source": [
    "y1 = homes_new['Sell']\n",
    "x1 = homes_new['Rooms']\n",
    "x1 = sm.add_constant(x1)\n",
    "x1.head()"
   ]
  },
  {
   "cell_type": "code",
   "execution_count": 11,
   "id": "f148f21c",
   "metadata": {},
   "outputs": [],
   "source": [
    "model2 = sm.OLS(y1,x1).fit()"
   ]
  },
  {
   "cell_type": "code",
   "execution_count": 12,
   "id": "8c7d7744",
   "metadata": {},
   "outputs": [
    {
     "data": {
      "text/html": [
       "<table class=\"simpletable\">\n",
       "<caption>OLS Regression Results</caption>\n",
       "<tr>\n",
       "  <th>Dep. Variable:</th>          <td>Sell</td>       <th>  R-squared:         </th> <td>   0.224</td>\n",
       "</tr>\n",
       "<tr>\n",
       "  <th>Model:</th>                   <td>OLS</td>       <th>  Adj. R-squared:    </th> <td>   0.206</td>\n",
       "</tr>\n",
       "<tr>\n",
       "  <th>Method:</th>             <td>Least Squares</td>  <th>  F-statistic:       </th> <td>   12.42</td>\n",
       "</tr>\n",
       "<tr>\n",
       "  <th>Date:</th>             <td>Mon, 19 Feb 2024</td> <th>  Prob (F-statistic):</th>  <td>0.00102</td>\n",
       "</tr>\n",
       "<tr>\n",
       "  <th>Time:</th>                 <td>17:23:15</td>     <th>  Log-Likelihood:    </th> <td> -215.09</td>\n",
       "</tr>\n",
       "<tr>\n",
       "  <th>No. Observations:</th>      <td>    45</td>      <th>  AIC:               </th> <td>   434.2</td>\n",
       "</tr>\n",
       "<tr>\n",
       "  <th>Df Residuals:</th>          <td>    43</td>      <th>  BIC:               </th> <td>   437.8</td>\n",
       "</tr>\n",
       "<tr>\n",
       "  <th>Df Model:</th>              <td>     1</td>      <th>                     </th>     <td> </td>   \n",
       "</tr>\n",
       "<tr>\n",
       "  <th>Covariance Type:</th>      <td>nonrobust</td>    <th>                     </th>     <td> </td>   \n",
       "</tr>\n",
       "</table>\n",
       "<table class=\"simpletable\">\n",
       "<tr>\n",
       "    <td></td>       <th>coef</th>     <th>std err</th>      <th>t</th>      <th>P>|t|</th>  <th>[0.025</th>    <th>0.975]</th>  \n",
       "</tr>\n",
       "<tr>\n",
       "  <th>const</th> <td>   49.0712</td> <td>   29.750</td> <td>    1.649</td> <td> 0.106</td> <td>  -10.925</td> <td>  109.067</td>\n",
       "</tr>\n",
       "<tr>\n",
       "  <th>Rooms</th> <td>   13.1459</td> <td>    3.730</td> <td>    3.525</td> <td> 0.001</td> <td>    5.624</td> <td>   20.668</td>\n",
       "</tr>\n",
       "</table>\n",
       "<table class=\"simpletable\">\n",
       "<tr>\n",
       "  <th>Omnibus:</th>       <td> 4.681</td> <th>  Durbin-Watson:     </th> <td>   2.300</td>\n",
       "</tr>\n",
       "<tr>\n",
       "  <th>Prob(Omnibus):</th> <td> 0.096</td> <th>  Jarque-Bera (JB):  </th> <td>   3.522</td>\n",
       "</tr>\n",
       "<tr>\n",
       "  <th>Skew:</th>          <td> 0.515</td> <th>  Prob(JB):          </th> <td>   0.172</td>\n",
       "</tr>\n",
       "<tr>\n",
       "  <th>Kurtosis:</th>      <td> 3.904</td> <th>  Cond. No.          </th> <td>    54.8</td>\n",
       "</tr>\n",
       "</table><br/><br/>Notes:<br/>[1] Standard Errors assume that the covariance matrix of the errors is correctly specified."
      ],
      "text/plain": [
       "<class 'statsmodels.iolib.summary.Summary'>\n",
       "\"\"\"\n",
       "                            OLS Regression Results                            \n",
       "==============================================================================\n",
       "Dep. Variable:                   Sell   R-squared:                       0.224\n",
       "Model:                            OLS   Adj. R-squared:                  0.206\n",
       "Method:                 Least Squares   F-statistic:                     12.42\n",
       "Date:                Mon, 19 Feb 2024   Prob (F-statistic):            0.00102\n",
       "Time:                        17:23:15   Log-Likelihood:                -215.09\n",
       "No. Observations:                  45   AIC:                             434.2\n",
       "Df Residuals:                      43   BIC:                             437.8\n",
       "Df Model:                           1                                         \n",
       "Covariance Type:            nonrobust                                         \n",
       "==============================================================================\n",
       "                 coef    std err          t      P>|t|      [0.025      0.975]\n",
       "------------------------------------------------------------------------------\n",
       "const         49.0712     29.750      1.649      0.106     -10.925     109.067\n",
       "Rooms         13.1459      3.730      3.525      0.001       5.624      20.668\n",
       "==============================================================================\n",
       "Omnibus:                        4.681   Durbin-Watson:                   2.300\n",
       "Prob(Omnibus):                  0.096   Jarque-Bera (JB):                3.522\n",
       "Skew:                           0.515   Prob(JB):                        0.172\n",
       "Kurtosis:                       3.904   Cond. No.                         54.8\n",
       "==============================================================================\n",
       "\n",
       "Notes:\n",
       "[1] Standard Errors assume that the covariance matrix of the errors is correctly specified.\n",
       "\"\"\""
      ]
     },
     "execution_count": 12,
     "metadata": {},
     "output_type": "execute_result"
    }
   ],
   "source": [
    "model2.summary()"
   ]
  },
  {
   "cell_type": "code",
   "execution_count": 13,
   "id": "e2e6d3db",
   "metadata": {},
   "outputs": [
    {
     "data": {
      "text/plain": [
       "28.810664845804162"
      ]
     },
     "execution_count": 13,
     "metadata": {},
     "output_type": "execute_result"
    }
   ],
   "source": [
    "np.sqrt((((y1) - model2.predict(x1)) **2 ).mean())"
   ]
  },
  {
   "cell_type": "code",
   "execution_count": 14,
   "id": "2fea36c9",
   "metadata": {},
   "outputs": [
    {
     "data": {
      "text/plain": [
       "0     180.530249\n",
       "1     154.238434\n",
       "2     127.946619\n",
       "3     141.092527\n",
       "4     154.238434\n",
       "5     141.092527\n",
       "6     154.238434\n",
       "7     154.238434\n",
       "9     114.800712\n",
       "10    154.238434\n",
       "11    141.092527\n",
       "12    154.238434\n",
       "13    154.238434\n",
       "14    154.238434\n",
       "15    154.238434\n",
       "16    167.384342\n",
       "17    141.092527\n",
       "18    141.092527\n",
       "19    154.238434\n",
       "20    167.384342\n",
       "22    167.384342\n",
       "23    167.384342\n",
       "24    167.384342\n",
       "25    154.238434\n",
       "26    154.238434\n",
       "27    141.092527\n",
       "29    154.238434\n",
       "30    141.092527\n",
       "31    167.384342\n",
       "32    154.238434\n",
       "33    127.946619\n",
       "34    141.092527\n",
       "35    141.092527\n",
       "36    180.530249\n",
       "37    154.238434\n",
       "39    154.238434\n",
       "40    167.384342\n",
       "41    154.238434\n",
       "42    154.238434\n",
       "43    206.822064\n",
       "44    154.238434\n",
       "45    127.946619\n",
       "46    141.092527\n",
       "48    154.238434\n",
       "49    141.092527\n",
       "dtype: float64"
      ]
     },
     "execution_count": 14,
     "metadata": {},
     "output_type": "execute_result"
    }
   ],
   "source": [
    "model2.predict(x1)"
   ]
  },
  {
   "cell_type": "code",
   "execution_count": 17,
   "id": "5d90c7d1",
   "metadata": {},
   "outputs": [
    {
     "data": {
      "text/html": [
       "<style>#sk-container-id-1 {color: black;background-color: white;}#sk-container-id-1 pre{padding: 0;}#sk-container-id-1 div.sk-toggleable {background-color: white;}#sk-container-id-1 label.sk-toggleable__label {cursor: pointer;display: block;width: 100%;margin-bottom: 0;padding: 0.3em;box-sizing: border-box;text-align: center;}#sk-container-id-1 label.sk-toggleable__label-arrow:before {content: \"▸\";float: left;margin-right: 0.25em;color: #696969;}#sk-container-id-1 label.sk-toggleable__label-arrow:hover:before {color: black;}#sk-container-id-1 div.sk-estimator:hover label.sk-toggleable__label-arrow:before {color: black;}#sk-container-id-1 div.sk-toggleable__content {max-height: 0;max-width: 0;overflow: hidden;text-align: left;background-color: #f0f8ff;}#sk-container-id-1 div.sk-toggleable__content pre {margin: 0.2em;color: black;border-radius: 0.25em;background-color: #f0f8ff;}#sk-container-id-1 input.sk-toggleable__control:checked~div.sk-toggleable__content {max-height: 200px;max-width: 100%;overflow: auto;}#sk-container-id-1 input.sk-toggleable__control:checked~label.sk-toggleable__label-arrow:before {content: \"▾\";}#sk-container-id-1 div.sk-estimator input.sk-toggleable__control:checked~label.sk-toggleable__label {background-color: #d4ebff;}#sk-container-id-1 div.sk-label input.sk-toggleable__control:checked~label.sk-toggleable__label {background-color: #d4ebff;}#sk-container-id-1 input.sk-hidden--visually {border: 0;clip: rect(1px 1px 1px 1px);clip: rect(1px, 1px, 1px, 1px);height: 1px;margin: -1px;overflow: hidden;padding: 0;position: absolute;width: 1px;}#sk-container-id-1 div.sk-estimator {font-family: monospace;background-color: #f0f8ff;border: 1px dotted black;border-radius: 0.25em;box-sizing: border-box;margin-bottom: 0.5em;}#sk-container-id-1 div.sk-estimator:hover {background-color: #d4ebff;}#sk-container-id-1 div.sk-parallel-item::after {content: \"\";width: 100%;border-bottom: 1px solid gray;flex-grow: 1;}#sk-container-id-1 div.sk-label:hover label.sk-toggleable__label {background-color: #d4ebff;}#sk-container-id-1 div.sk-serial::before {content: \"\";position: absolute;border-left: 1px solid gray;box-sizing: border-box;top: 0;bottom: 0;left: 50%;z-index: 0;}#sk-container-id-1 div.sk-serial {display: flex;flex-direction: column;align-items: center;background-color: white;padding-right: 0.2em;padding-left: 0.2em;position: relative;}#sk-container-id-1 div.sk-item {position: relative;z-index: 1;}#sk-container-id-1 div.sk-parallel {display: flex;align-items: stretch;justify-content: center;background-color: white;position: relative;}#sk-container-id-1 div.sk-item::before, #sk-container-id-1 div.sk-parallel-item::before {content: \"\";position: absolute;border-left: 1px solid gray;box-sizing: border-box;top: 0;bottom: 0;left: 50%;z-index: -1;}#sk-container-id-1 div.sk-parallel-item {display: flex;flex-direction: column;z-index: 1;position: relative;background-color: white;}#sk-container-id-1 div.sk-parallel-item:first-child::after {align-self: flex-end;width: 50%;}#sk-container-id-1 div.sk-parallel-item:last-child::after {align-self: flex-start;width: 50%;}#sk-container-id-1 div.sk-parallel-item:only-child::after {width: 0;}#sk-container-id-1 div.sk-dashed-wrapped {border: 1px dashed gray;margin: 0 0.4em 0.5em 0.4em;box-sizing: border-box;padding-bottom: 0.4em;background-color: white;}#sk-container-id-1 div.sk-label label {font-family: monospace;font-weight: bold;display: inline-block;line-height: 1.2em;}#sk-container-id-1 div.sk-label-container {text-align: center;}#sk-container-id-1 div.sk-container {/* jupyter's `normalize.less` sets `[hidden] { display: none; }` but bootstrap.min.css set `[hidden] { display: none !important; }` so we also need the `!important` here to be able to override the default hidden behavior on the sphinx rendered scikit-learn.org. See: https://github.com/scikit-learn/scikit-learn/issues/21755 */display: inline-block !important;position: relative;}#sk-container-id-1 div.sk-text-repr-fallback {display: none;}</style><div id=\"sk-container-id-1\" class=\"sk-top-container\"><div class=\"sk-text-repr-fallback\"><pre>LinearRegression()</pre><b>In a Jupyter environment, please rerun this cell to show the HTML representation or trust the notebook. <br />On GitHub, the HTML representation is unable to render, please try loading this page with nbviewer.org.</b></div><div class=\"sk-container\" hidden><div class=\"sk-item\"><div class=\"sk-estimator sk-toggleable\"><input class=\"sk-toggleable__control sk-hidden--visually\" id=\"sk-estimator-id-1\" type=\"checkbox\" checked><label for=\"sk-estimator-id-1\" class=\"sk-toggleable__label sk-toggleable__label-arrow\">LinearRegression</label><div class=\"sk-toggleable__content\"><pre>LinearRegression()</pre></div></div></div></div></div>"
      ],
      "text/plain": [
       "LinearRegression()"
      ]
     },
     "execution_count": 17,
     "metadata": {},
     "output_type": "execute_result"
    }
   ],
   "source": [
    "reg.fit(x1,y1)"
   ]
  },
  {
   "cell_type": "code",
   "execution_count": 18,
   "id": "82aa6192",
   "metadata": {},
   "outputs": [
    {
     "data": {
      "text/plain": [
       "array([ 0.        , 13.14590747])"
      ]
     },
     "execution_count": 18,
     "metadata": {},
     "output_type": "execute_result"
    }
   ],
   "source": [
    "reg.coef_"
   ]
  },
  {
   "cell_type": "code",
   "execution_count": 19,
   "id": "d02f9e03",
   "metadata": {},
   "outputs": [
    {
     "data": {
      "text/plain": [
       "49.07117437722421"
      ]
     },
     "execution_count": 19,
     "metadata": {},
     "output_type": "execute_result"
    }
   ],
   "source": [
    "reg.intercept_"
   ]
  },
  {
   "cell_type": "code",
   "execution_count": 20,
   "id": "327941fb",
   "metadata": {},
   "outputs": [
    {
     "data": {
      "text/plain": [
       "array([180.53024911, 154.23843416, 127.94661922, 141.09252669,\n",
       "       154.23843416, 141.09252669, 154.23843416, 154.23843416,\n",
       "       114.80071174, 154.23843416])"
      ]
     },
     "execution_count": 20,
     "metadata": {},
     "output_type": "execute_result"
    }
   ],
   "source": [
    "reg.predict(x1)[:10]"
   ]
  },
  {
   "cell_type": "code",
   "execution_count": 21,
   "id": "d2acdff5",
   "metadata": {},
   "outputs": [
    {
     "data": {
      "text/plain": [
       "28.810664845804162"
      ]
     },
     "execution_count": 21,
     "metadata": {},
     "output_type": "execute_result"
    }
   ],
   "source": [
    "mean_squared_error(y1, reg.predict(x1)) ** 0.5"
   ]
  },
  {
   "cell_type": "markdown",
   "id": "9f588dc8",
   "metadata": {},
   "source": [
    "In addition to the model output include markdown commentary about the important statistics from the output; is taxes a good predictor for selling price? Why or why not?"
   ]
  },
  {
   "cell_type": "markdown",
   "id": "fdcedaed",
   "metadata": {},
   "source": [
    "Important statistics:\n",
    "Coefficient = 13.15 - If number of rooms increase by 1, the sale price increases by 13.15 units (for every 1000 units), other variables being constant.\n",
    "Rooms is a good predictor of selling price since its p value is low."
   ]
  },
  {
   "cell_type": "markdown",
   "id": "9c0ab300",
   "metadata": {},
   "source": [
    "Which model is \"better\"? What are some limitations of the model? "
   ]
  },
  {
   "cell_type": "markdown",
   "id": "79f20621",
   "metadata": {},
   "source": [
    "It seems like the second model is better. The model considers only one independent variable where as in reality there are be many more variables for predicting price."
   ]
  }
 ],
 "metadata": {
  "kernelspec": {
   "display_name": "Python 3 (ipykernel)",
   "language": "python",
   "name": "python3"
  },
  "language_info": {
   "codemirror_mode": {
    "name": "ipython",
    "version": 3
   },
   "file_extension": ".py",
   "mimetype": "text/x-python",
   "name": "python",
   "nbconvert_exporter": "python",
   "pygments_lexer": "ipython3",
   "version": "3.11.3"
  }
 },
 "nbformat": 4,
 "nbformat_minor": 5
}
